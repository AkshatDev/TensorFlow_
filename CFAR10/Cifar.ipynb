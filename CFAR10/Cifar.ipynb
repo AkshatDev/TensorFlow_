{
 "cells": [
  {
   "cell_type": "code",
   "execution_count": null,
   "metadata": {
    "colab": {
     "base_uri": "https://localhost:8080/",
     "height": 34
    },
    "colab_type": "code",
    "id": "ZJEy8y9MBEsy",
    "outputId": "402fea0c-980a-491e-90aa-86ceca5f4bc3"
   },
   "outputs": [
    {
     "name": "stderr",
     "output_type": "stream",
     "text": [
      "Using TensorFlow backend.\n"
     ]
    }
   ],
   "source": [
    "#Loading all necessary libraries\n",
    "import keras\n",
    "import tensorflow as tf\n",
    "import matplotlib.pyplot as plt\n",
    "from tensorflow.keras.preprocessing.image import ImageDataGenerator\n",
    "from tensorflow.keras.utils import to_categorical"
   ]
  },
  {
   "cell_type": "code",
   "execution_count": null,
   "metadata": {
    "colab": {},
    "colab_type": "code",
    "id": "JN14Lhe8BEs_"
   },
   "outputs": [],
   "source": [
    "cifar=tf.keras.datasets.cifar10"
   ]
  },
  {
   "cell_type": "code",
   "execution_count": null,
   "metadata": {
    "colab": {},
    "colab_type": "code",
    "id": "FQuoHioXBEtI"
   },
   "outputs": [],
   "source": [
    "(x_train,y_train),(x_test,y_test)=cifar.load_data()"
   ]
  },
  {
   "cell_type": "code",
   "execution_count": null,
   "metadata": {
    "colab": {},
    "colab_type": "code",
    "id": "3ZP8TJo4A2OX"
   },
   "outputs": [],
   "source": [
    "# Encoding target variables. \n",
    "y_train=to_categorical(y_train)\n",
    "y_test=to_categorical(y_test)"
   ]
  },
  {
   "cell_type": "code",
   "execution_count": null,
   "metadata": {
    "colab": {
     "base_uri": "https://localhost:8080/",
     "height": 34
    },
    "colab_type": "code",
    "id": "TrL3VZq3BEtO",
    "outputId": "b0e9fac0-8cdf-40d3-93e7-81fb9d4468ae"
   },
   "outputs": [
    {
     "name": "stdout",
     "output_type": "stream",
     "text": [
      "(50000, 32, 32, 3) (50000, 10) (10000, 10)\n"
     ]
    }
   ],
   "source": [
    "print(x_train.shape,y_train.shape,y_test.shape)"
   ]
  },
  {
   "cell_type": "code",
   "execution_count": null,
   "metadata": {
    "colab": {},
    "colab_type": "code",
    "id": "YC6MGR0lBEtW"
   },
   "outputs": [],
   "source": [
    "# Using Image Augmentation\n",
    "tr = ImageDataGenerator(\n",
    "    rescale=(1./255),\n",
    "    featurewise_center=True,\n",
    "    featurewise_std_normalization=True,\n",
    "    rotation_range=20,\n",
    "    width_shift_range=0.2,\n",
    "    height_shift_range=0.2,\n",
    "    horizontal_flip=True,\n",
    "    fill_mode='nearest')\n",
    "ts = ImageDataGenerator(rescale=(1./255))\n",
    "tr.fit(x_train)\n",
    "ts.fit(x_test)"
   ]
  },
  {
   "cell_type": "code",
   "execution_count": null,
   "metadata": {
    "colab": {
     "base_uri": "https://localhost:8080/",
     "height": 924
    },
    "colab_type": "code",
    "id": "A-6-sMpeBEtg",
    "outputId": "c7fba924-a062-4c3e-ea8c-f81f391d3aa0"
   },
   "outputs": [
    {
     "name": "stdout",
     "output_type": "stream",
     "text": [
      "Model: \"sequential_1\"\n",
      "_________________________________________________________________\n",
      "Layer (type)                 Output Shape              Param #   \n",
      "=================================================================\n",
      "conv2d_6 (Conv2D)            (None, 32, 32, 32)        896       \n",
      "_________________________________________________________________\n",
      "batch_normalization_7 (Batch (None, 32, 32, 32)        128       \n",
      "_________________________________________________________________\n",
      "conv2d_7 (Conv2D)            (None, 32, 32, 32)        9248      \n",
      "_________________________________________________________________\n",
      "batch_normalization_8 (Batch (None, 32, 32, 32)        128       \n",
      "_________________________________________________________________\n",
      "max_pooling2d_3 (MaxPooling2 (None, 16, 16, 32)        0         \n",
      "_________________________________________________________________\n",
      "dropout_4 (Dropout)          (None, 16, 16, 32)        0         \n",
      "_________________________________________________________________\n",
      "conv2d_8 (Conv2D)            (None, 16, 16, 64)        18496     \n",
      "_________________________________________________________________\n",
      "batch_normalization_9 (Batch (None, 16, 16, 64)        256       \n",
      "_________________________________________________________________\n",
      "conv2d_9 (Conv2D)            (None, 16, 16, 64)        36928     \n",
      "_________________________________________________________________\n",
      "batch_normalization_10 (Batc (None, 16, 16, 64)        256       \n",
      "_________________________________________________________________\n",
      "max_pooling2d_4 (MaxPooling2 (None, 8, 8, 64)          0         \n",
      "_________________________________________________________________\n",
      "dropout_5 (Dropout)          (None, 8, 8, 64)          0         \n",
      "_________________________________________________________________\n",
      "conv2d_10 (Conv2D)           (None, 8, 8, 128)         73856     \n",
      "_________________________________________________________________\n",
      "batch_normalization_11 (Batc (None, 8, 8, 128)         512       \n",
      "_________________________________________________________________\n",
      "conv2d_11 (Conv2D)           (None, 8, 8, 128)         147584    \n",
      "_________________________________________________________________\n",
      "batch_normalization_12 (Batc (None, 8, 8, 128)         512       \n",
      "_________________________________________________________________\n",
      "max_pooling2d_5 (MaxPooling2 (None, 4, 4, 128)         0         \n",
      "_________________________________________________________________\n",
      "dropout_6 (Dropout)          (None, 4, 4, 128)         0         \n",
      "_________________________________________________________________\n",
      "flatten_1 (Flatten)          (None, 2048)              0         \n",
      "_________________________________________________________________\n",
      "dense_2 (Dense)              (None, 512)               1049088   \n",
      "_________________________________________________________________\n",
      "batch_normalization_13 (Batc (None, 512)               2048      \n",
      "_________________________________________________________________\n",
      "dropout_7 (Dropout)          (None, 512)               0         \n",
      "_________________________________________________________________\n",
      "dense_3 (Dense)              (None, 10)                5130      \n",
      "=================================================================\n",
      "Total params: 1,345,066\n",
      "Trainable params: 1,343,146\n",
      "Non-trainable params: 1,920\n",
      "_________________________________________________________________\n"
     ]
    }
   ],
   "source": [
    "# This model was trained without encoding target variables\n",
    "model2 = tf.keras.models.Sequential([\n",
    "    tf.keras.layers.Conv2D(32, (3,3), activation='relu',padding=\"same\", input_shape=(32, 32, 3)),\n",
    "    tf.keras.layers.BatchNormalization(),\n",
    "    tf.keras.layers.Conv2D(32, (3,3),padding=\"same\", activation='relu'),\n",
    "    tf.keras.layers.BatchNormalization(),\n",
    "    tf.keras.layers.MaxPooling2D(2,2),\n",
    "    tf.keras.layers.Dropout(0.2),\n",
    "    tf.keras.layers.Conv2D(64, (3,3),padding=\"same\", activation='relu'),\n",
    "    tf.keras.layers.BatchNormalization(),\n",
    "    tf.keras.layers.Conv2D(64, (3,3),padding=\"same\", activation='relu'),\n",
    "    tf.keras.layers.BatchNormalization(),\n",
    "    tf.keras.layers.MaxPooling2D(2,2),\n",
    "    tf.keras.layers.Dropout(0.2),\n",
    "    tf.keras.layers.Conv2D(128, (3,3),padding=\"same\", activation='relu'),\n",
    "    tf.keras.layers.BatchNormalization(),\n",
    "    tf.keras.layers.Conv2D(128, (3,3),padding=\"same\", activation='relu'),\n",
    "    tf.keras.layers.BatchNormalization(),\n",
    "    tf.keras.layers.MaxPooling2D(2,2),\n",
    "    tf.keras.layers.Dropout(0.2),\n",
    "    tf.keras.layers.Flatten(),\n",
    "    tf.keras.layers.Dense(512, activation='relu'),\n",
    "    tf.keras.layers.BatchNormalization(),\n",
    "    tf.keras.layers.Dropout(0.2),\n",
    "    tf.keras.layers.Dense(10, activation='softmax')\n",
    "])\n",
    "model2.summary()"
   ]
  },
  {
   "cell_type": "code",
   "execution_count": null,
   "metadata": {
    "colab": {
     "base_uri": "https://localhost:8080/",
     "height": 1000
    },
    "colab_type": "code",
    "id": "-bATx2wkBEtq",
    "outputId": "49bba623-b20e-4b61-accd-dea74da26e01"
   },
   "outputs": [
    {
     "name": "stdout",
     "output_type": "stream",
     "text": [
      "Epoch 1/100\n",
      "5000/5000 [==============================] - 68s 14ms/step - loss: 0.7046 - accuracy: 0.1008 - val_loss: 1.8540 - val_accuracy: 0.0561\n",
      "Epoch 2/100\n",
      "5000/5000 [==============================] - 68s 14ms/step - loss: 0.7026 - accuracy: 0.1022 - val_loss: 1.7181 - val_accuracy: 0.1416\n",
      "Epoch 3/100\n",
      "5000/5000 [==============================] - 68s 14ms/step - loss: 0.6988 - accuracy: 0.1024 - val_loss: 1.9178 - val_accuracy: 0.1806\n",
      "Epoch 4/100\n",
      "5000/5000 [==============================] - 68s 14ms/step - loss: 0.6848 - accuracy: 0.1011 - val_loss: 1.9978 - val_accuracy: 0.1066\n",
      "Epoch 5/100\n",
      "5000/5000 [==============================] - 68s 14ms/step - loss: 0.6801 - accuracy: 0.1030 - val_loss: 1.9547 - val_accuracy: 0.0606\n",
      "Epoch 6/100\n",
      "5000/5000 [==============================] - 67s 13ms/step - loss: 0.6712 - accuracy: 0.1015 - val_loss: 1.7814 - val_accuracy: 0.1042\n",
      "Epoch 7/100\n",
      "5000/5000 [==============================] - 67s 13ms/step - loss: 0.6661 - accuracy: 0.1018 - val_loss: 1.8969 - val_accuracy: 0.0561\n",
      "Epoch 8/100\n",
      "5000/5000 [==============================] - 68s 14ms/step - loss: 0.6560 - accuracy: 0.1013 - val_loss: 2.0010 - val_accuracy: 0.0309\n",
      "Epoch 9/100\n",
      "5000/5000 [==============================] - 68s 14ms/step - loss: 0.6520 - accuracy: 0.1018 - val_loss: 1.5852 - val_accuracy: 0.0356\n",
      "Epoch 10/100\n",
      "5000/5000 [==============================] - 68s 14ms/step - loss: 0.6485 - accuracy: 0.1022 - val_loss: 1.5333 - val_accuracy: 0.0616\n",
      "Epoch 11/100\n",
      "5000/5000 [==============================] - 68s 14ms/step - loss: 0.6413 - accuracy: 0.1019 - val_loss: 1.9202 - val_accuracy: 0.0813\n",
      "Epoch 12/100\n",
      "5000/5000 [==============================] - 68s 14ms/step - loss: 0.6363 - accuracy: 0.1021 - val_loss: 1.4385 - val_accuracy: 0.1055\n",
      "Epoch 13/100\n",
      "5000/5000 [==============================] - 67s 13ms/step - loss: 0.6351 - accuracy: 0.1028 - val_loss: 1.3651 - val_accuracy: 0.0912\n",
      "Epoch 14/100\n",
      "5000/5000 [==============================] - 67s 13ms/step - loss: 0.6334 - accuracy: 0.1026 - val_loss: 2.1057 - val_accuracy: 0.0358\n",
      "Epoch 15/100\n",
      "5000/5000 [==============================] - 67s 13ms/step - loss: 0.6251 - accuracy: 0.1011 - val_loss: 1.6154 - val_accuracy: 0.0996\n",
      "Epoch 16/100\n",
      "5000/5000 [==============================] - 67s 13ms/step - loss: 0.6176 - accuracy: 0.1010 - val_loss: 1.6089 - val_accuracy: 0.0905\n",
      "Epoch 17/100\n",
      "5000/5000 [==============================] - 67s 13ms/step - loss: 0.6209 - accuracy: 0.1012 - val_loss: 1.7896 - val_accuracy: 0.0216\n",
      "Epoch 18/100\n",
      "5000/5000 [==============================] - 68s 14ms/step - loss: 0.6105 - accuracy: 0.1011 - val_loss: 1.4514 - val_accuracy: 0.1576\n",
      "Epoch 19/100\n",
      "5000/5000 [==============================] - 68s 14ms/step - loss: 0.6060 - accuracy: 0.1014 - val_loss: 1.6399 - val_accuracy: 0.0681\n",
      "Epoch 20/100\n",
      "5000/5000 [==============================] - 68s 14ms/step - loss: 0.6079 - accuracy: 0.1023 - val_loss: 1.6180 - val_accuracy: 0.0781\n",
      "Epoch 21/100\n",
      "5000/5000 [==============================] - 67s 13ms/step - loss: 0.6056 - accuracy: 0.1009 - val_loss: 1.7548 - val_accuracy: 0.1520\n",
      "Epoch 22/100\n",
      "5000/5000 [==============================] - 67s 13ms/step - loss: 0.5978 - accuracy: 0.1017 - val_loss: 1.5084 - val_accuracy: 0.1051\n",
      "Epoch 23/100\n",
      "5000/5000 [==============================] - 69s 14ms/step - loss: 0.5957 - accuracy: 0.1017 - val_loss: 1.4012 - val_accuracy: 0.1360\n",
      "Epoch 24/100\n",
      "5000/5000 [==============================] - 68s 14ms/step - loss: 0.5925 - accuracy: 0.1012 - val_loss: 1.5051 - val_accuracy: 0.1189\n",
      "Epoch 25/100\n",
      "5000/5000 [==============================] - 68s 14ms/step - loss: 0.5901 - accuracy: 0.1016 - val_loss: 1.3877 - val_accuracy: 0.1114\n",
      "Epoch 26/100\n",
      "5000/5000 [==============================] - 68s 14ms/step - loss: 0.5864 - accuracy: 0.1013 - val_loss: 1.5488 - val_accuracy: 0.0832\n",
      "Epoch 27/100\n",
      "5000/5000 [==============================] - 68s 14ms/step - loss: 0.5779 - accuracy: 0.1013 - val_loss: 1.5438 - val_accuracy: 0.0920\n",
      "Epoch 28/100\n",
      "5000/5000 [==============================] - 68s 14ms/step - loss: 0.5814 - accuracy: 0.1015 - val_loss: 1.6292 - val_accuracy: 0.0989\n",
      "Epoch 29/100\n",
      "5000/5000 [==============================] - 68s 14ms/step - loss: 0.5869 - accuracy: 0.1016 - val_loss: 1.5607 - val_accuracy: 0.1225\n",
      "Epoch 30/100\n",
      "5000/5000 [==============================] - 68s 14ms/step - loss: 0.5704 - accuracy: 0.1018 - val_loss: 1.8307 - val_accuracy: 0.0488\n",
      "Epoch 31/100\n",
      "5000/5000 [==============================] - 68s 14ms/step - loss: 0.5707 - accuracy: 0.1017 - val_loss: 1.4120 - val_accuracy: 0.0617\n",
      "Epoch 32/100\n",
      "5000/5000 [==============================] - 68s 14ms/step - loss: 0.5727 - accuracy: 0.1019 - val_loss: 1.7987 - val_accuracy: 0.0596\n",
      "Epoch 33/100\n",
      "5000/5000 [==============================] - 68s 14ms/step - loss: 0.5675 - accuracy: 0.1018 - val_loss: 1.8133 - val_accuracy: 0.0861\n",
      "Epoch 34/100\n",
      "5000/5000 [==============================] - 68s 14ms/step - loss: 0.5631 - accuracy: 0.1019 - val_loss: 1.2995 - val_accuracy: 0.0893\n",
      "Epoch 35/100\n",
      "5000/5000 [==============================] - 68s 14ms/step - loss: 0.5626 - accuracy: 0.1026 - val_loss: 1.6503 - val_accuracy: 0.0600\n",
      "Epoch 36/100\n",
      "5000/5000 [==============================] - 68s 14ms/step - loss: 0.5615 - accuracy: 0.1014 - val_loss: 1.5446 - val_accuracy: 0.0988\n",
      "Epoch 37/100\n",
      "5000/5000 [==============================] - 68s 14ms/step - loss: 0.5567 - accuracy: 0.1025 - val_loss: 1.5720 - val_accuracy: 0.1043\n",
      "Epoch 38/100\n",
      "5000/5000 [==============================] - 68s 14ms/step - loss: 0.5630 - accuracy: 0.1015 - val_loss: 1.5196 - val_accuracy: 0.1035\n",
      "Epoch 39/100\n",
      "5000/5000 [==============================] - 68s 14ms/step - loss: 0.5594 - accuracy: 0.1011 - val_loss: 1.3892 - val_accuracy: 0.0604\n",
      "Epoch 40/100\n",
      "5000/5000 [==============================] - 68s 14ms/step - loss: 0.5532 - accuracy: 0.1018 - val_loss: 1.5371 - val_accuracy: 0.0840\n",
      "Epoch 41/100\n",
      "5000/5000 [==============================] - 68s 14ms/step - loss: 0.5590 - accuracy: 0.1016 - val_loss: 1.5685 - val_accuracy: 0.0900\n",
      "Epoch 42/100\n",
      "5000/5000 [==============================] - 68s 14ms/step - loss: 0.5580 - accuracy: 0.1018 - val_loss: 1.4114 - val_accuracy: 0.1187\n",
      "Epoch 43/100\n",
      "5000/5000 [==============================] - 68s 14ms/step - loss: 0.5546 - accuracy: 0.1023 - val_loss: 1.5305 - val_accuracy: 0.1023\n",
      "Epoch 44/100\n",
      "5000/5000 [==============================] - 67s 13ms/step - loss: 0.5476 - accuracy: 0.1017 - val_loss: 1.3303 - val_accuracy: 0.0792\n",
      "Epoch 45/100\n",
      "5000/5000 [==============================] - 67s 13ms/step - loss: 0.5381 - accuracy: 0.1012 - val_loss: 1.4128 - val_accuracy: 0.1229\n",
      "Epoch 46/100\n",
      "5000/5000 [==============================] - 68s 14ms/step - loss: 0.5398 - accuracy: 0.1021 - val_loss: 1.4989 - val_accuracy: 0.0661\n",
      "Epoch 47/100\n",
      "5000/5000 [==============================] - 68s 14ms/step - loss: 0.5540 - accuracy: 0.1018 - val_loss: 1.6448 - val_accuracy: 0.0552\n",
      "Epoch 48/100\n",
      "5000/5000 [==============================] - 68s 14ms/step - loss: 0.5400 - accuracy: 0.1011 - val_loss: 1.8933 - val_accuracy: 0.0489\n",
      "Epoch 49/100\n",
      "5000/5000 [==============================] - 67s 13ms/step - loss: 0.5345 - accuracy: 0.1013 - val_loss: 1.2690 - val_accuracy: 0.0872\n",
      "Epoch 50/100\n",
      "5000/5000 [==============================] - 68s 14ms/step - loss: 0.5377 - accuracy: 0.1014 - val_loss: 1.5379 - val_accuracy: 0.0828\n",
      "Epoch 51/100\n",
      "5000/5000 [==============================] - 68s 14ms/step - loss: 0.5375 - accuracy: 0.1012 - val_loss: 1.3678 - val_accuracy: 0.0727\n",
      "Epoch 52/100\n",
      "5000/5000 [==============================] - 67s 13ms/step - loss: 0.5306 - accuracy: 0.1017 - val_loss: 1.4801 - val_accuracy: 0.0490\n",
      "Epoch 53/100\n",
      "5000/5000 [==============================] - 68s 14ms/step - loss: 0.5283 - accuracy: 0.1026 - val_loss: 1.5173 - val_accuracy: 0.0400\n",
      "Epoch 54/100\n",
      "5000/5000 [==============================] - 68s 14ms/step - loss: 0.5416 - accuracy: 0.1016 - val_loss: 1.8080 - val_accuracy: 0.0747\n",
      "Epoch 55/100\n",
      "5000/5000 [==============================] - 68s 14ms/step - loss: 0.5374 - accuracy: 0.1017 - val_loss: 1.3626 - val_accuracy: 0.1184\n",
      "Epoch 56/100\n",
      "5000/5000 [==============================] - 68s 14ms/step - loss: 0.5306 - accuracy: 0.1011 - val_loss: 1.5127 - val_accuracy: 0.0703\n",
      "Epoch 57/100\n",
      "5000/5000 [==============================] - 68s 14ms/step - loss: 0.5283 - accuracy: 0.1013 - val_loss: 1.4292 - val_accuracy: 0.0866\n",
      "Epoch 58/100\n",
      "5000/5000 [==============================] - 68s 14ms/step - loss: 0.5279 - accuracy: 0.1016 - val_loss: 1.5479 - val_accuracy: 0.0594\n",
      "Epoch 59/100\n",
      "5000/5000 [==============================] - 68s 14ms/step - loss: 0.5293 - accuracy: 0.1017 - val_loss: 1.4796 - val_accuracy: 0.0491\n",
      "Epoch 60/100\n",
      "5000/5000 [==============================] - 68s 14ms/step - loss: 0.5255 - accuracy: 0.1023 - val_loss: 1.6510 - val_accuracy: 0.0747\n",
      "Epoch 61/100\n",
      "5000/5000 [==============================] - 68s 14ms/step - loss: 0.5200 - accuracy: 0.1020 - val_loss: 1.4057 - val_accuracy: 0.1151\n",
      "Epoch 62/100\n",
      "5000/5000 [==============================] - 68s 14ms/step - loss: 0.5515 - accuracy: 0.1014 - val_loss: 1.6890 - val_accuracy: 0.0957\n",
      "Epoch 63/100\n",
      "5000/5000 [==============================] - 67s 13ms/step - loss: 0.5292 - accuracy: 0.1002 - val_loss: 2.1411 - val_accuracy: 0.0590\n",
      "Epoch 64/100\n",
      "5000/5000 [==============================] - 68s 14ms/step - loss: 0.5248 - accuracy: 0.1010 - val_loss: 1.6055 - val_accuracy: 0.0743\n",
      "Epoch 65/100\n",
      "5000/5000 [==============================] - 69s 14ms/step - loss: 0.5193 - accuracy: 0.1022 - val_loss: 1.5222 - val_accuracy: 0.1359\n",
      "Epoch 66/100\n",
      "5000/5000 [==============================] - 68s 14ms/step - loss: 0.5180 - accuracy: 0.1014 - val_loss: 1.6234 - val_accuracy: 0.1170\n",
      "Epoch 67/100\n",
      "5000/5000 [==============================] - 69s 14ms/step - loss: 0.5228 - accuracy: 0.1015 - val_loss: 1.7732 - val_accuracy: 0.0716\n",
      "Epoch 68/100\n",
      "5000/5000 [==============================] - 68s 14ms/step - loss: 0.5023 - accuracy: 0.1013 - val_loss: 1.6476 - val_accuracy: 0.0697\n",
      "Epoch 69/100\n",
      "5000/5000 [==============================] - 69s 14ms/step - loss: 0.5178 - accuracy: 0.1013 - val_loss: 1.4395 - val_accuracy: 0.0883\n",
      "Epoch 70/100\n",
      "5000/5000 [==============================] - 68s 14ms/step - loss: 0.5200 - accuracy: 0.1027 - val_loss: 1.8485 - val_accuracy: 0.0451\n",
      "Epoch 71/100\n",
      "5000/5000 [==============================] - 68s 14ms/step - loss: 0.5123 - accuracy: 0.1015 - val_loss: 1.5249 - val_accuracy: 0.0749\n",
      "Epoch 72/100\n",
      "5000/5000 [==============================] - 68s 14ms/step - loss: 0.5090 - accuracy: 0.1015 - val_loss: 1.5384 - val_accuracy: 0.1085\n",
      "Epoch 73/100\n",
      "5000/5000 [==============================] - 69s 14ms/step - loss: 0.5056 - accuracy: 0.1023 - val_loss: 1.2852 - val_accuracy: 0.0744\n",
      "Epoch 74/100\n",
      "5000/5000 [==============================] - 69s 14ms/step - loss: 0.5071 - accuracy: 0.1020 - val_loss: 1.3695 - val_accuracy: 0.0789\n",
      "Epoch 75/100\n",
      "5000/5000 [==============================] - 69s 14ms/step - loss: 0.5135 - accuracy: 0.1022 - val_loss: 1.7483 - val_accuracy: 0.1322\n",
      "Epoch 76/100\n",
      "5000/5000 [==============================] - 69s 14ms/step - loss: 0.5242 - accuracy: 0.1011 - val_loss: 1.5466 - val_accuracy: 0.0786\n",
      "Epoch 77/100\n",
      "5000/5000 [==============================] - 68s 14ms/step - loss: 0.5296 - accuracy: 0.1027 - val_loss: 1.4019 - val_accuracy: 0.1327\n",
      "Epoch 78/100\n",
      "5000/5000 [==============================] - 68s 14ms/step - loss: 0.5083 - accuracy: 0.1010 - val_loss: 1.3470 - val_accuracy: 0.2125\n",
      "Epoch 79/100\n",
      "5000/5000 [==============================] - 67s 13ms/step - loss: 0.5100 - accuracy: 0.1018 - val_loss: 1.3483 - val_accuracy: 0.1037\n",
      "Epoch 80/100\n",
      "5000/5000 [==============================] - 68s 14ms/step - loss: 0.5007 - accuracy: 0.1015 - val_loss: 1.1786 - val_accuracy: 0.1382\n",
      "Epoch 81/100\n",
      "5000/5000 [==============================] - 67s 13ms/step - loss: 0.5065 - accuracy: 0.1017 - val_loss: 1.6968 - val_accuracy: 0.0754\n",
      "Epoch 82/100\n",
      "5000/5000 [==============================] - 68s 14ms/step - loss: 0.5062 - accuracy: 0.1014 - val_loss: 1.6778 - val_accuracy: 0.1031\n",
      "Epoch 83/100\n",
      "5000/5000 [==============================] - 67s 13ms/step - loss: 0.5089 - accuracy: 0.1020 - val_loss: 1.3169 - val_accuracy: 0.1069\n",
      "Epoch 84/100\n",
      "5000/5000 [==============================] - 67s 13ms/step - loss: 0.5006 - accuracy: 0.1012 - val_loss: 1.5808 - val_accuracy: 0.1178\n",
      "Epoch 85/100\n",
      "5000/5000 [==============================] - 67s 13ms/step - loss: 0.5068 - accuracy: 0.1021 - val_loss: 1.5797 - val_accuracy: 0.1126\n",
      "Epoch 86/100\n",
      "5000/5000 [==============================] - 67s 13ms/step - loss: 0.5018 - accuracy: 0.1016 - val_loss: 1.3174 - val_accuracy: 0.0972\n",
      "Epoch 87/100\n",
      "5000/5000 [==============================] - 68s 14ms/step - loss: 0.4999 - accuracy: 0.1017 - val_loss: 1.6025 - val_accuracy: 0.0467\n",
      "Epoch 88/100\n",
      "5000/5000 [==============================] - 68s 14ms/step - loss: 0.5089 - accuracy: 0.1021 - val_loss: 1.2537 - val_accuracy: 0.0998\n",
      "Epoch 89/100\n",
      "5000/5000 [==============================] - 67s 13ms/step - loss: 0.5110 - accuracy: 0.1007 - val_loss: 1.2576 - val_accuracy: 0.1181\n",
      "Epoch 90/100\n",
      "5000/5000 [==============================] - 67s 13ms/step - loss: 0.5183 - accuracy: 0.1011 - val_loss: 1.1177 - val_accuracy: 0.1062\n",
      "Epoch 91/100\n",
      "5000/5000 [==============================] - 67s 13ms/step - loss: 0.5155 - accuracy: 0.1016 - val_loss: 1.6092 - val_accuracy: 0.1061\n",
      "Epoch 92/100\n",
      "5000/5000 [==============================] - 68s 14ms/step - loss: 0.5203 - accuracy: 0.1024 - val_loss: 1.2320 - val_accuracy: 0.0633\n",
      "Epoch 93/100\n",
      "5000/5000 [==============================] - 68s 14ms/step - loss: 0.5046 - accuracy: 0.1013 - val_loss: 1.5433 - val_accuracy: 0.0986\n",
      "Epoch 94/100\n",
      "5000/5000 [==============================] - 68s 14ms/step - loss: 0.5078 - accuracy: 0.1014 - val_loss: 1.6936 - val_accuracy: 0.0563\n",
      "Epoch 95/100\n",
      "5000/5000 [==============================] - 68s 14ms/step - loss: 0.5054 - accuracy: 0.1014 - val_loss: 1.2733 - val_accuracy: 0.0806\n",
      "Epoch 96/100\n",
      "5000/5000 [==============================] - 68s 14ms/step - loss: 0.5100 - accuracy: 0.1025 - val_loss: 1.4732 - val_accuracy: 0.0662\n",
      "Epoch 97/100\n",
      "5000/5000 [==============================] - 68s 14ms/step - loss: 0.5042 - accuracy: 0.1010 - val_loss: 1.2992 - val_accuracy: 0.1549\n",
      "Epoch 98/100\n",
      "5000/5000 [==============================] - 68s 14ms/step - loss: 0.4937 - accuracy: 0.1011 - val_loss: 1.5926 - val_accuracy: 0.0824\n",
      "Epoch 99/100\n",
      "5000/5000 [==============================] - 68s 14ms/step - loss: 0.4918 - accuracy: 0.1013 - val_loss: 1.4892 - val_accuracy: 0.0583\n",
      "Epoch 100/100\n",
      "5000/5000 [==============================] - 68s 14ms/step - loss: 0.4904 - accuracy: 0.1016 - val_loss: 1.5045 - val_accuracy: 0.1139\n",
      "313/313 [==============================] - 2s 6ms/step - loss: 151.2372 - accuracy: 0.0011\n"
     ]
    },
    {
     "data": {
      "text/plain": [
       "[151.23724365234375, 0.0010999999940395355]"
      ]
     },
     "execution_count": 10,
     "metadata": {
      "tags": []
     },
     "output_type": "execute_result"
    }
   ],
   "source": [
    "model2.compile(\n",
    "    tf.keras.optimizers.Adam(beta_1=0.55, beta_2=0.999),\n",
    "    loss='sparse_categorical_crossentropy',\n",
    "    metrics=['accuracy']\n",
    ")\n",
    "history2 = model2.fit(tr.flow(x_train, y_train,\n",
    "                                    batch_size=10),\n",
    "                                    epochs=100,\n",
    "                                    validation_data=(ts.flow(x_test,y_test)),)\n",
    "model2.evaluate(x_test,y_test)"
   ]
  },
  {
   "cell_type": "code",
   "execution_count": null,
   "metadata": {
    "colab": {},
    "colab_type": "code",
    "id": "gwNpJMRqBEt6"
   },
   "outputs": [],
   "source": [
    "model2.evaluate(x_test,y_test)"
   ]
  },
  {
   "cell_type": "code",
   "execution_count": null,
   "metadata": {
    "colab": {
     "base_uri": "https://localhost:8080/",
     "height": 545
    },
    "colab_type": "code",
    "id": "Nl7RgaeMh5en",
    "outputId": "16372593-5119-4a3f-9153-5c3f7a115468"
   },
   "outputs": [
    {
     "data": {
      "image/png": "[encoded data removed]",
      "text/plain": [
       "<Figure size 432x288 with 1 Axes>"
      ]
     },
     "metadata": {
      "needs_background": "light",
      "tags": []
     },
     "output_type": "display_data"
    },
    {
     "data": {
      "image/png": "[encoded data removed]",
      "text/plain": [
       "<Figure size 432x288 with 1 Axes>"
      ]
     },
     "metadata": {
      "needs_background": "light",
      "tags": []
     },
     "output_type": "display_data"
    }
   ],
   "source": [
    "acc=history2.history['accuracy']\n",
    "val_acc = history2.history['val_accuracy']\n",
    "loss = history2.history['loss']\n",
    "val_loss = history2.history['val_loss']\n",
    "\n",
    "epochs = range(len(acc))\n",
    "\n",
    "plt.plot(epochs, acc, 'r', label='Training accuracy')\n",
    "plt.plot(epochs, val_acc, 'b', label='Validation accuracy')\n",
    "plt.title('Training and validation accuracy')\n",
    "\n",
    "plt.figure()\n",
    "\n",
    "plt.plot(epochs, loss, 'r', label='Training Loss')\n",
    "plt.plot(epochs, val_loss, 'b', label='Validation Loss')\n",
    "plt.title('Training and validation loss')\n",
    "plt.legend()\n",
    "\n",
    "plt.show()"
   ]
  },
  {
   "cell_type": "code",
   "execution_count": null,
   "metadata": {},
   "outputs": [],
   "source": [
    "#Trying new model for same epochs and hyperparameters but encoding target variables now!!"
   ]
  },
  {
   "cell_type": "code",
   "execution_count": null,
   "metadata": {
    "colab": {
     "base_uri": "https://localhost:8080/",
     "height": 924
    },
    "colab_type": "code",
    "id": "a8f-NC6NB8gY",
    "outputId": "af5e4fda-6fb9-4d55-8c6f-29798e60d493"
   },
   "outputs": [
    {
     "name": "stdout",
     "output_type": "stream",
     "text": [
      "Model: \"sequential_3\"\n",
      "_________________________________________________________________\n",
      "Layer (type)                 Output Shape              Param #   \n",
      "=================================================================\n",
      "conv2d_18 (Conv2D)           (None, 32, 32, 32)        896       \n",
      "_________________________________________________________________\n",
      "batch_normalization_21 (Batc (None, 32, 32, 32)        128       \n",
      "_________________________________________________________________\n",
      "conv2d_19 (Conv2D)           (None, 32, 32, 32)        9248      \n",
      "_________________________________________________________________\n",
      "batch_normalization_22 (Batc (None, 32, 32, 32)        128       \n",
      "_________________________________________________________________\n",
      "max_pooling2d_9 (MaxPooling2 (None, 16, 16, 32)        0         \n",
      "_________________________________________________________________\n",
      "dropout_12 (Dropout)         (None, 16, 16, 32)        0         \n",
      "_________________________________________________________________\n",
      "conv2d_20 (Conv2D)           (None, 16, 16, 64)        18496     \n",
      "_________________________________________________________________\n",
      "batch_normalization_23 (Batc (None, 16, 16, 64)        256       \n",
      "_________________________________________________________________\n",
      "conv2d_21 (Conv2D)           (None, 16, 16, 64)        36928     \n",
      "_________________________________________________________________\n",
      "batch_normalization_24 (Batc (None, 16, 16, 64)        256       \n",
      "_________________________________________________________________\n",
      "max_pooling2d_10 (MaxPooling (None, 8, 8, 64)          0         \n",
      "_________________________________________________________________\n",
      "dropout_13 (Dropout)         (None, 8, 8, 64)          0         \n",
      "_________________________________________________________________\n",
      "conv2d_22 (Conv2D)           (None, 8, 8, 128)         73856     \n",
      "_________________________________________________________________\n",
      "batch_normalization_25 (Batc (None, 8, 8, 128)         512       \n",
      "_________________________________________________________________\n",
      "conv2d_23 (Conv2D)           (None, 8, 8, 128)         147584    \n",
      "_________________________________________________________________\n",
      "batch_normalization_26 (Batc (None, 8, 8, 128)         512       \n",
      "_________________________________________________________________\n",
      "max_pooling2d_11 (MaxPooling (None, 4, 4, 128)         0         \n",
      "_________________________________________________________________\n",
      "dropout_14 (Dropout)         (None, 4, 4, 128)         0         \n",
      "_________________________________________________________________\n",
      "flatten_3 (Flatten)          (None, 2048)              0         \n",
      "_________________________________________________________________\n",
      "dense_6 (Dense)              (None, 512)               1049088   \n",
      "_________________________________________________________________\n",
      "batch_normalization_27 (Batc (None, 512)               2048      \n",
      "_________________________________________________________________\n",
      "dropout_15 (Dropout)         (None, 512)               0         \n",
      "_________________________________________________________________\n",
      "dense_7 (Dense)              (None, 10)                5130      \n",
      "=================================================================\n",
      "Total params: 1,345,066\n",
      "Trainable params: 1,343,146\n",
      "Non-trainable params: 1,920\n",
      "_________________________________________________________________\n"
     ]
    }
   ],
   "source": [
    "model2 = tf.keras.models.Sequential([\n",
    "    tf.keras.layers.Conv2D(32, (3,3), activation='relu',padding=\"same\", input_shape=(32, 32, 3)),\n",
    "    tf.keras.layers.BatchNormalization(),\n",
    "    tf.keras.layers.Conv2D(32, (3,3),padding=\"same\", activation='relu'),\n",
    "    tf.keras.layers.BatchNormalization(),\n",
    "    tf.keras.layers.MaxPooling2D(2,2),\n",
    "    tf.keras.layers.Dropout(0.2),\n",
    "    tf.keras.layers.Conv2D(64, (3,3),padding=\"same\", activation='relu'),\n",
    "    tf.keras.layers.BatchNormalization(),\n",
    "    tf.keras.layers.Conv2D(64, (3,3),padding=\"same\", activation='relu'),\n",
    "    tf.keras.layers.BatchNormalization(),\n",
    "    tf.keras.layers.MaxPooling2D(2,2),\n",
    "    tf.keras.layers.Dropout(0.2),\n",
    "    tf.keras.layers.Conv2D(128, (3,3),padding=\"same\", activation='relu'),\n",
    "    tf.keras.layers.BatchNormalization(),\n",
    "    tf.keras.layers.Conv2D(128, (3,3),padding=\"same\", activation='relu'),\n",
    "    tf.keras.layers.BatchNormalization(),\n",
    "    tf.keras.layers.MaxPooling2D(2,2),\n",
    "    tf.keras.layers.Dropout(0.2),\n",
    "    tf.keras.layers.Flatten(),\n",
    "    tf.keras.layers.Dense(512, activation='relu'),\n",
    "    tf.keras.layers.BatchNormalization(),\n",
    "    tf.keras.layers.Dropout(0.2),\n",
    "    tf.keras.layers.Dense(10, activation='softmax')\n",
    "])\n",
    "model2.summary()\n",
    "model2.compile(\n",
    "    tf.keras.optimizers.Adam(beta_1=0.55, beta_2=0.999),\n",
    "    loss='categorical_crossentropy',\n",
    "    metrics=['accuracy']\n",
    ")\n"
   ]
  },
  {
   "cell_type": "code",
   "execution_count": null,
   "metadata": {
    "colab": {
     "base_uri": "https://localhost:8080/",
     "height": 1000
    },
    "colab_type": "code",
    "id": "PCSWVYWKCqNo",
    "outputId": "3813aa27-2c7c-4ed5-ef21-7a51e6c3a06b"
   },
   "outputs": [
    {
     "name": "stdout",
     "output_type": "stream",
     "text": [
      "Epoch 1/100\n",
      "5000/5000 [==============================] - 75s 15ms/step - loss: 1.8116 - accuracy: 0.3616 - val_loss: 2.8316 - val_accuracy: 0.2000\n",
      "Epoch 2/100\n",
      "5000/5000 [==============================] - 74s 15ms/step - loss: 1.4388 - accuracy: 0.4876 - val_loss: 3.3473 - val_accuracy: 0.2427\n",
      "Epoch 3/100\n",
      "5000/5000 [==============================] - 74s 15ms/step - loss: 1.2892 - accuracy: 0.5452 - val_loss: 3.1272 - val_accuracy: 0.2341\n",
      "Epoch 4/100\n",
      "5000/5000 [==============================] - 74s 15ms/step - loss: 1.1770 - accuracy: 0.5906 - val_loss: 3.6724 - val_accuracy: 0.2466\n",
      "Epoch 5/100\n",
      "5000/5000 [==============================] - 73s 15ms/step - loss: 1.1028 - accuracy: 0.6148 - val_loss: 3.7771 - val_accuracy: 0.2234\n",
      "Epoch 6/100\n",
      "5000/5000 [==============================] - 75s 15ms/step - loss: 1.0525 - accuracy: 0.6379 - val_loss: 3.7422 - val_accuracy: 0.2577\n",
      "Epoch 7/100\n",
      "5000/5000 [==============================] - 74s 15ms/step - loss: 1.0104 - accuracy: 0.6515 - val_loss: 3.8797 - val_accuracy: 0.2881\n",
      "Epoch 8/100\n",
      "5000/5000 [==============================] - 74s 15ms/step - loss: 0.9877 - accuracy: 0.6615 - val_loss: 3.1212 - val_accuracy: 0.3147\n",
      "Epoch 9/100\n",
      "5000/5000 [==============================] - 75s 15ms/step - loss: 0.9479 - accuracy: 0.6765 - val_loss: 3.0525 - val_accuracy: 0.2904\n",
      "Epoch 10/100\n",
      "5000/5000 [==============================] - 76s 15ms/step - loss: 0.9212 - accuracy: 0.6836 - val_loss: 2.0968 - val_accuracy: 0.3479\n",
      "Epoch 11/100\n",
      "5000/5000 [==============================] - 74s 15ms/step - loss: 0.8946 - accuracy: 0.6937 - val_loss: 4.5607 - val_accuracy: 0.2187\n",
      "Epoch 12/100\n",
      "5000/5000 [==============================] - 73s 15ms/step - loss: 0.8781 - accuracy: 0.7016 - val_loss: 2.8714 - val_accuracy: 0.3447\n",
      "Epoch 13/100\n",
      "5000/5000 [==============================] - 72s 14ms/step - loss: 0.8772 - accuracy: 0.6999 - val_loss: 2.4084 - val_accuracy: 0.3623\n",
      "Epoch 14/100\n",
      "5000/5000 [==============================] - 75s 15ms/step - loss: 0.8392 - accuracy: 0.7121 - val_loss: 2.9978 - val_accuracy: 0.2749\n",
      "Epoch 15/100\n",
      "5000/5000 [==============================] - 76s 15ms/step - loss: 0.8290 - accuracy: 0.7156 - val_loss: 2.5191 - val_accuracy: 0.3176\n",
      "Epoch 16/100\n",
      "5000/5000 [==============================] - 75s 15ms/step - loss: 0.8151 - accuracy: 0.7225 - val_loss: 2.4983 - val_accuracy: 0.3245\n",
      "Epoch 17/100\n",
      "5000/5000 [==============================] - 74s 15ms/step - loss: 0.8140 - accuracy: 0.7223 - val_loss: 2.4893 - val_accuracy: 0.3526\n",
      "Epoch 18/100\n",
      "5000/5000 [==============================] - 74s 15ms/step - loss: 0.7853 - accuracy: 0.7349 - val_loss: 2.2160 - val_accuracy: 0.3672\n",
      "Epoch 19/100\n",
      "5000/5000 [==============================] - 74s 15ms/step - loss: 0.7712 - accuracy: 0.7376 - val_loss: 2.0590 - val_accuracy: 0.4288\n",
      "Epoch 20/100\n",
      "5000/5000 [==============================] - 73s 15ms/step - loss: 0.7607 - accuracy: 0.7423 - val_loss: 2.3493 - val_accuracy: 0.3799\n",
      "Epoch 21/100\n",
      "5000/5000 [==============================] - 73s 15ms/step - loss: 0.7506 - accuracy: 0.7459 - val_loss: 2.0565 - val_accuracy: 0.4496\n",
      "Epoch 22/100\n",
      "5000/5000 [==============================] - 73s 15ms/step - loss: 0.7430 - accuracy: 0.7471 - val_loss: 2.0710 - val_accuracy: 0.4249\n",
      "Epoch 23/100\n",
      "5000/5000 [==============================] - 75s 15ms/step - loss: 0.7326 - accuracy: 0.7516 - val_loss: 1.8609 - val_accuracy: 0.4475\n",
      "Epoch 24/100\n",
      "5000/5000 [==============================] - 76s 15ms/step - loss: 0.7202 - accuracy: 0.7565 - val_loss: 1.8386 - val_accuracy: 0.4353\n",
      "Epoch 25/100\n",
      "5000/5000 [==============================] - 78s 16ms/step - loss: 0.7115 - accuracy: 0.7601 - val_loss: 2.0295 - val_accuracy: 0.4035\n",
      "Epoch 26/100\n",
      "5000/5000 [==============================] - 79s 16ms/step - loss: 0.7052 - accuracy: 0.7617 - val_loss: 1.5711 - val_accuracy: 0.4977\n",
      "Epoch 27/100\n",
      "5000/5000 [==============================] - 75s 15ms/step - loss: 0.6947 - accuracy: 0.7660 - val_loss: 1.5901 - val_accuracy: 0.5232\n",
      "Epoch 28/100\n",
      "5000/5000 [==============================] - 74s 15ms/step - loss: 0.6980 - accuracy: 0.7649 - val_loss: 1.6935 - val_accuracy: 0.4808\n",
      "Epoch 29/100\n",
      "5000/5000 [==============================] - 76s 15ms/step - loss: 0.6810 - accuracy: 0.7692 - val_loss: 1.4901 - val_accuracy: 0.5279\n",
      "Epoch 30/100\n",
      "5000/5000 [==============================] - 75s 15ms/step - loss: 0.6776 - accuracy: 0.7719 - val_loss: 1.6366 - val_accuracy: 0.5200\n",
      "Epoch 31/100\n",
      "5000/5000 [==============================] - 74s 15ms/step - loss: 0.6745 - accuracy: 0.7715 - val_loss: 1.4292 - val_accuracy: 0.5332\n",
      "Epoch 32/100\n",
      "5000/5000 [==============================] - 74s 15ms/step - loss: 0.6705 - accuracy: 0.7715 - val_loss: 1.9795 - val_accuracy: 0.3847\n",
      "Epoch 33/100\n",
      "5000/5000 [==============================] - 74s 15ms/step - loss: 0.6627 - accuracy: 0.7757 - val_loss: 1.4640 - val_accuracy: 0.5455\n",
      "Epoch 34/100\n",
      "5000/5000 [==============================] - 73s 15ms/step - loss: 0.6523 - accuracy: 0.7779 - val_loss: 1.6930 - val_accuracy: 0.4940\n",
      "Epoch 35/100\n",
      "5000/5000 [==============================] - 76s 15ms/step - loss: 0.6487 - accuracy: 0.7805 - val_loss: 1.7200 - val_accuracy: 0.4798\n",
      "Epoch 36/100\n",
      "5000/5000 [==============================] - 77s 15ms/step - loss: 0.6515 - accuracy: 0.7794 - val_loss: 1.5216 - val_accuracy: 0.5268\n",
      "Epoch 37/100\n",
      "5000/5000 [==============================] - 79s 16ms/step - loss: 0.6399 - accuracy: 0.7844 - val_loss: 1.6182 - val_accuracy: 0.5041\n",
      "Epoch 38/100\n",
      "5000/5000 [==============================] - 75s 15ms/step - loss: 0.6488 - accuracy: 0.7805 - val_loss: 1.5725 - val_accuracy: 0.4877\n",
      "Epoch 39/100\n",
      "5000/5000 [==============================] - 74s 15ms/step - loss: 0.6456 - accuracy: 0.7823 - val_loss: 1.7408 - val_accuracy: 0.5062\n",
      "Epoch 40/100\n",
      "5000/5000 [==============================] - 73s 15ms/step - loss: 0.6461 - accuracy: 0.7816 - val_loss: 1.6661 - val_accuracy: 0.4788\n",
      "Epoch 41/100\n",
      "5000/5000 [==============================] - 76s 15ms/step - loss: 0.6417 - accuracy: 0.7827 - val_loss: 1.7032 - val_accuracy: 0.4798\n",
      "Epoch 42/100\n",
      "5000/5000 [==============================] - 73s 15ms/step - loss: 0.6382 - accuracy: 0.7860 - val_loss: 1.3879 - val_accuracy: 0.5629\n",
      "Epoch 43/100\n",
      "5000/5000 [==============================] - 74s 15ms/step - loss: 0.6281 - accuracy: 0.7892 - val_loss: 1.6445 - val_accuracy: 0.5064\n",
      "Epoch 44/100\n",
      "5000/5000 [==============================] - 75s 15ms/step - loss: 0.6299 - accuracy: 0.7900 - val_loss: 1.5948 - val_accuracy: 0.5052\n",
      "Epoch 45/100\n",
      "5000/5000 [==============================] - 75s 15ms/step - loss: 0.6264 - accuracy: 0.7886 - val_loss: 1.4955 - val_accuracy: 0.5386\n",
      "Epoch 46/100\n",
      "5000/5000 [==============================] - 73s 15ms/step - loss: 0.6230 - accuracy: 0.7876 - val_loss: 1.5489 - val_accuracy: 0.5040\n",
      "Epoch 47/100\n",
      "5000/5000 [==============================] - 74s 15ms/step - loss: 0.6131 - accuracy: 0.7943 - val_loss: 1.2416 - val_accuracy: 0.5959\n",
      "Epoch 48/100\n",
      "5000/5000 [==============================] - 74s 15ms/step - loss: 0.6134 - accuracy: 0.7943 - val_loss: 1.6911 - val_accuracy: 0.4721\n",
      "Epoch 49/100\n",
      "5000/5000 [==============================] - 73s 15ms/step - loss: 0.6102 - accuracy: 0.7970 - val_loss: 1.5354 - val_accuracy: 0.5020\n",
      "Epoch 50/100\n",
      "5000/5000 [==============================] - 74s 15ms/step - loss: 0.6074 - accuracy: 0.7951 - val_loss: 1.3211 - val_accuracy: 0.5741\n",
      "Epoch 51/100\n",
      "5000/5000 [==============================] - 74s 15ms/step - loss: 0.6042 - accuracy: 0.7972 - val_loss: 1.4622 - val_accuracy: 0.5359\n",
      "Epoch 52/100\n",
      "5000/5000 [==============================] - 76s 15ms/step - loss: 0.5975 - accuracy: 0.7994 - val_loss: 1.2246 - val_accuracy: 0.5889\n",
      "Epoch 53/100\n",
      "5000/5000 [==============================] - 80s 16ms/step - loss: 0.5974 - accuracy: 0.8003 - val_loss: 2.0480 - val_accuracy: 0.3962\n",
      "Epoch 54/100\n",
      "5000/5000 [==============================] - 80s 16ms/step - loss: 0.5907 - accuracy: 0.7998 - val_loss: 1.5478 - val_accuracy: 0.4637\n",
      "Epoch 55/100\n",
      "5000/5000 [==============================] - 75s 15ms/step - loss: 0.5996 - accuracy: 0.7976 - val_loss: 1.5840 - val_accuracy: 0.5451\n",
      "Epoch 56/100\n",
      "5000/5000 [==============================] - 75s 15ms/step - loss: 0.5914 - accuracy: 0.8000 - val_loss: 1.2864 - val_accuracy: 0.5815\n",
      "Epoch 57/100\n",
      "5000/5000 [==============================] - 74s 15ms/step - loss: 0.5866 - accuracy: 0.8014 - val_loss: 1.3845 - val_accuracy: 0.5524\n",
      "Epoch 58/100\n",
      "5000/5000 [==============================] - 74s 15ms/step - loss: 0.5892 - accuracy: 0.8016 - val_loss: 1.5351 - val_accuracy: 0.4995\n",
      "Epoch 59/100\n",
      "5000/5000 [==============================] - 75s 15ms/step - loss: 0.5851 - accuracy: 0.8027 - val_loss: 1.4750 - val_accuracy: 0.5243\n",
      "Epoch 60/100\n",
      "5000/5000 [==============================] - 74s 15ms/step - loss: 0.5800 - accuracy: 0.8046 - val_loss: 1.2080 - val_accuracy: 0.6308\n",
      "Epoch 61/100\n",
      "5000/5000 [==============================] - 75s 15ms/step - loss: 0.5837 - accuracy: 0.8043 - val_loss: 1.2919 - val_accuracy: 0.5843\n",
      "Epoch 62/100\n",
      "5000/5000 [==============================] - 75s 15ms/step - loss: 0.5714 - accuracy: 0.8071 - val_loss: 1.1960 - val_accuracy: 0.6005\n",
      "Epoch 63/100\n",
      "5000/5000 [==============================] - 76s 15ms/step - loss: 0.5699 - accuracy: 0.8080 - val_loss: 1.4754 - val_accuracy: 0.5515\n",
      "Epoch 64/100\n",
      "5000/5000 [==============================] - 78s 16ms/step - loss: 0.5738 - accuracy: 0.8060 - val_loss: 1.2567 - val_accuracy: 0.5606\n",
      "Epoch 65/100\n",
      "5000/5000 [==============================] - 82s 16ms/step - loss: 0.5684 - accuracy: 0.8080 - val_loss: 1.5129 - val_accuracy: 0.5238\n",
      "Epoch 66/100\n",
      "5000/5000 [==============================] - 77s 15ms/step - loss: 0.5728 - accuracy: 0.8066 - val_loss: 1.4227 - val_accuracy: 0.5490\n",
      "Epoch 67/100\n",
      "5000/5000 [==============================] - 76s 15ms/step - loss: 0.5668 - accuracy: 0.8086 - val_loss: 1.6640 - val_accuracy: 0.5133\n",
      "Epoch 68/100\n",
      "5000/5000 [==============================] - 75s 15ms/step - loss: 0.5649 - accuracy: 0.8082 - val_loss: 1.6432 - val_accuracy: 0.5201\n",
      "Epoch 69/100\n",
      "5000/5000 [==============================] - 74s 15ms/step - loss: 0.5658 - accuracy: 0.8093 - val_loss: 1.5556 - val_accuracy: 0.5289\n",
      "Epoch 70/100\n",
      "5000/5000 [==============================] - 72s 14ms/step - loss: 0.5529 - accuracy: 0.8128 - val_loss: 1.3735 - val_accuracy: 0.5515\n",
      "Epoch 71/100\n",
      "5000/5000 [==============================] - 73s 15ms/step - loss: 0.5541 - accuracy: 0.8150 - val_loss: 1.4737 - val_accuracy: 0.5219\n",
      "Epoch 72/100\n",
      "5000/5000 [==============================] - 76s 15ms/step - loss: 0.5507 - accuracy: 0.8146 - val_loss: 1.1302 - val_accuracy: 0.6284\n",
      "Epoch 73/100\n",
      "5000/5000 [==============================] - 74s 15ms/step - loss: 0.5382 - accuracy: 0.8194 - val_loss: 1.4798 - val_accuracy: 0.5388\n",
      "Epoch 74/100\n",
      "5000/5000 [==============================] - 74s 15ms/step - loss: 0.5576 - accuracy: 0.8116 - val_loss: 1.6596 - val_accuracy: 0.5273\n",
      "Epoch 75/100\n",
      "5000/5000 [==============================] - 74s 15ms/step - loss: 0.5446 - accuracy: 0.8182 - val_loss: 1.4196 - val_accuracy: 0.5674\n",
      "Epoch 76/100\n",
      "5000/5000 [==============================] - 74s 15ms/step - loss: 0.5373 - accuracy: 0.8192 - val_loss: 1.3385 - val_accuracy: 0.5993\n",
      "Epoch 77/100\n",
      "5000/5000 [==============================] - 73s 15ms/step - loss: 0.5523 - accuracy: 0.8144 - val_loss: 1.2772 - val_accuracy: 0.5867\n",
      "Epoch 78/100\n",
      "5000/5000 [==============================] - 74s 15ms/step - loss: 0.5373 - accuracy: 0.8188 - val_loss: 1.2022 - val_accuracy: 0.6052\n",
      "Epoch 79/100\n",
      "5000/5000 [==============================] - 76s 15ms/step - loss: 0.5427 - accuracy: 0.8175 - val_loss: 1.6872 - val_accuracy: 0.5038\n",
      "Epoch 80/100\n",
      "5000/5000 [==============================] - 75s 15ms/step - loss: 0.5424 - accuracy: 0.8172 - val_loss: 1.3755 - val_accuracy: 0.5670\n",
      "Epoch 81/100\n",
      "5000/5000 [==============================] - 75s 15ms/step - loss: 0.5450 - accuracy: 0.8184 - val_loss: 1.5148 - val_accuracy: 0.5586\n",
      "Epoch 82/100\n",
      "5000/5000 [==============================] - 75s 15ms/step - loss: 0.5363 - accuracy: 0.8203 - val_loss: 1.4729 - val_accuracy: 0.5375\n",
      "Epoch 83/100\n",
      "5000/5000 [==============================] - 75s 15ms/step - loss: 0.5385 - accuracy: 0.8174 - val_loss: 1.4939 - val_accuracy: 0.5305\n",
      "Epoch 84/100\n",
      "5000/5000 [==============================] - 74s 15ms/step - loss: 0.5434 - accuracy: 0.8177 - val_loss: 1.2699 - val_accuracy: 0.5848\n",
      "Epoch 85/100\n",
      "5000/5000 [==============================] - 73s 15ms/step - loss: 0.5320 - accuracy: 0.8200 - val_loss: 1.1586 - val_accuracy: 0.6172\n",
      "Epoch 86/100\n",
      "5000/5000 [==============================] - 76s 15ms/step - loss: 0.5291 - accuracy: 0.8214 - val_loss: 1.2592 - val_accuracy: 0.6057\n",
      "Epoch 87/100\n",
      "5000/5000 [==============================] - 75s 15ms/step - loss: 0.5312 - accuracy: 0.8233 - val_loss: 1.3409 - val_accuracy: 0.5693\n",
      "Epoch 88/100\n",
      "5000/5000 [==============================] - 73s 15ms/step - loss: 0.5327 - accuracy: 0.8220 - val_loss: 1.4393 - val_accuracy: 0.5505\n",
      "Epoch 89/100\n",
      "5000/5000 [==============================] - 74s 15ms/step - loss: 0.5229 - accuracy: 0.8240 - val_loss: 1.0642 - val_accuracy: 0.6438\n",
      "Epoch 90/100\n",
      "5000/5000 [==============================] - 74s 15ms/step - loss: 0.5222 - accuracy: 0.8229 - val_loss: 1.1873 - val_accuracy: 0.5939\n",
      "Epoch 91/100\n",
      "5000/5000 [==============================] - 73s 15ms/step - loss: 0.5145 - accuracy: 0.8266 - val_loss: 1.1612 - val_accuracy: 0.6182\n",
      "Epoch 92/100\n",
      "5000/5000 [==============================] - 74s 15ms/step - loss: 0.5241 - accuracy: 0.8231 - val_loss: 1.3887 - val_accuracy: 0.5527\n",
      "Epoch 93/100\n",
      "5000/5000 [==============================] - 75s 15ms/step - loss: 0.5324 - accuracy: 0.8205 - val_loss: 1.2395 - val_accuracy: 0.5992\n",
      "Epoch 94/100\n",
      "5000/5000 [==============================] - 74s 15ms/step - loss: 0.5194 - accuracy: 0.8260 - val_loss: 1.3695 - val_accuracy: 0.5557\n",
      "Epoch 95/100\n",
      "5000/5000 [==============================] - 74s 15ms/step - loss: 0.5313 - accuracy: 0.8212 - val_loss: 1.5030 - val_accuracy: 0.5314\n",
      "Epoch 96/100\n",
      "5000/5000 [==============================] - 75s 15ms/step - loss: 0.5227 - accuracy: 0.8231 - val_loss: 1.2502 - val_accuracy: 0.5979\n",
      "Epoch 97/100\n",
      "5000/5000 [==============================] - 74s 15ms/step - loss: 0.5217 - accuracy: 0.8249 - val_loss: 1.5459 - val_accuracy: 0.5113\n",
      "Epoch 98/100\n",
      "5000/5000 [==============================] - 75s 15ms/step - loss: 0.5194 - accuracy: 0.8261 - val_loss: 1.7356 - val_accuracy: 0.5088\n",
      "Epoch 99/100\n",
      "5000/5000 [==============================] - 75s 15ms/step - loss: 0.5182 - accuracy: 0.8248 - val_loss: 1.3623 - val_accuracy: 0.5854\n",
      "Epoch 100/100\n",
      "5000/5000 [==============================] - 74s 15ms/step - loss: 0.5154 - accuracy: 0.8277 - val_loss: 1.3902 - val_accuracy: 0.5646\n",
      "313/313 [==============================] - 2s 7ms/step - loss: 99.3578 - accuracy: 0.1929\n"
     ]
    },
    {
     "data": {
      "text/plain": [
       "[99.35781860351562, 0.19290000200271606]"
      ]
     },
     "execution_count": 32,
     "metadata": {
      "tags": []
     },
     "output_type": "execute_result"
    }
   ],
   "source": [
    "history2 = model2.fit(tr.flow(x_train, y_train,\n",
    "                                    batch_size=10),\n",
    "                                    epochs=100,\n",
    "                                    validation_data=(ts.flow(x_test,y_test)),)\n",
    "model2.evaluate(x_test,y_test)"
   ]
  },
  {
   "cell_type": "code",
   "execution_count": null,
   "metadata": {
    "colab": {
     "base_uri": "https://localhost:8080/",
     "height": 545
    },
    "colab_type": "code",
    "id": "F6qtkJXSgc9-",
    "outputId": "638ffee9-ee9b-49a7-abca-2aef25287d9f"
   },
   "outputs": [
    {
     "data": {
      "image/png": "[encoded data removed]",
      "text/plain": [
       "<Figure size 432x288 with 1 Axes>"
      ]
     },
     "metadata": {
      "needs_background": "light",
      "tags": []
     },
     "output_type": "display_data"
    },
    {
     "data": {
      "image/png": "[encoded data removed]",
      "text/plain": [
       "<Figure size 432x288 with 1 Axes>"
      ]
     },
     "metadata": {
      "needs_background": "light",
      "tags": []
     },
     "output_type": "display_data"
    }
   ],
   "source": [
    "acc=history2.history['accuracy']\n",
    "val_acc = history2.history['val_accuracy']\n",
    "loss = history2.history['loss']\n",
    "val_loss = history2.history['val_loss']\n",
    "\n",
    "epochs = range(len(acc))\n",
    "\n",
    "plt.plot(epochs, acc, 'r', label='Training accuracy')\n",
    "plt.plot(epochs, val_acc, 'b', label='Validation accuracy')\n",
    "plt.title('Training and validation accuracy')\n",
    "\n",
    "plt.figure()\n",
    "\n",
    "plt.plot(epochs, loss, 'r', label='Training Loss')\n",
    "plt.plot(epochs, val_loss, 'b', label='Validation Loss')\n",
    "plt.title('Training and validation loss')\n",
    "plt.legend()\n",
    "\n",
    "plt.show()"
   ]
  },
  {
   "cell_type": "code",
   "execution_count": null,
   "metadata": {},
   "outputs": [],
   "source": [
    "#As we can see , accurcy is increasing and loss is decreasing in both train and validation sets."
   ]
  },
  {
   "cell_type": "code",
   "execution_count": null,
   "metadata": {
    "colab": {},
    "colab_type": "code",
    "id": "SCirn2Yngim-"
   },
   "outputs": [],
   "source": [
    "#Saving the model for any in-future use.\n",
    "model2.save('abg.h5')"
   ]
  },
  {
   "cell_type": "markdown",
   "metadata": {
    "colab_type": "text",
    "id": "ycrMBehXm8oA"
   },
   "source": [
    "# New Section"
   ]
  }
 ],
 "metadata": {
  "accelerator": "GPU",
  "colab": {
   "collapsed_sections": [],
   "name": "Cifar.ipynb",
   "provenance": []
  },
  "kernelspec": {
   "display_name": "Python 3",
   "language": "python",
   "name": "python3"
  },
  "language_info": {
   "codemirror_mode": {
    "name": "ipython",
    "version": 3
   },
   "file_extension": ".py",
   "mimetype": "text/x-python",
   "name": "python",
   "nbconvert_exporter": "python",
   "pygments_lexer": "ipython3",
   "version": "3.7.3"
  }
 },
 "nbformat": 4,
 "nbformat_minor": 1
}
