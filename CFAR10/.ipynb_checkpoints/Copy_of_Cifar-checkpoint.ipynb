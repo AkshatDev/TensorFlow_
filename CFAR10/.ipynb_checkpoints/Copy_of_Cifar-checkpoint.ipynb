{
 "cells": [
  {
   "cell_type": "code",
   "execution_count": 1,
   "metadata": {
    "colab": {},
    "colab_type": "code",
    "id": "ZJEy8y9MBEsy"
   },
   "outputs": [
    {
     "name": "stderr",
     "output_type": "stream",
     "text": [
      "Using TensorFlow backend.\n"
     ]
    }
   ],
   "source": [
    "import keras\n",
    "import tensorflow as tf\n",
    "import matplotlib.pyplot as plt\n",
    "from tensorflow.keras.preprocessing.image import ImageDataGenerator"
   ]
  },
  {
   "cell_type": "code",
   "execution_count": 2,
   "metadata": {
    "colab": {},
    "colab_type": "code",
    "id": "JN14Lhe8BEs_"
   },
   "outputs": [],
   "source": [
    "cifar=tf.keras.datasets.cifar10"
   ]
  },
  {
   "cell_type": "code",
   "execution_count": 3,
   "metadata": {
    "colab": {},
    "colab_type": "code",
    "id": "FQuoHioXBEtI"
   },
   "outputs": [],
   "source": [
    "(x_train,y_train),(x_test,y_test)=cifar.load_data()"
   ]
  },
  {
   "cell_type": "code",
   "execution_count": 4,
   "metadata": {
    "colab": {
     "base_uri": "https://localhost:8080/",
     "height": 34
    },
    "colab_type": "code",
    "id": "TrL3VZq3BEtO",
    "outputId": "17a695a1-fb2c-4c2f-eba4-ce336473e626"
   },
   "outputs": [
    {
     "data": {
      "text/plain": [
       "(50000, 32, 32, 3)"
      ]
     },
     "execution_count": 4,
     "metadata": {},
     "output_type": "execute_result"
    }
   ],
   "source": [
    "x_train.shape"
   ]
  },
  {
   "cell_type": "code",
   "execution_count": 5,
   "metadata": {
    "colab": {},
    "colab_type": "code",
    "id": "YC6MGR0lBEtW"
   },
   "outputs": [],
   "source": [
    "tr = ImageDataGenerator(\n",
    "    rescale=(1./255),\n",
    "    featurewise_center=True,\n",
    "    featurewise_std_normalization=True,\n",
    "    rotation_range=20,\n",
    "    width_shift_range=0.2,\n",
    "    height_shift_range=0.2,\n",
    "    horizontal_flip=True,\n",
    "    fill_mode='nearest')\n",
    "ts = ImageDataGenerator(rescale=(1./255))\n",
    "tr.fit(x_train)\n",
    "ts.fit(x_test)"
   ]
  },
  {
   "cell_type": "code",
   "execution_count": null,
   "metadata": {
    "colab": {
     "base_uri": "https://localhost:8080/",
     "height": 386
    },
    "colab_type": "code",
    "id": "A-6-sMpeBEtg",
    "outputId": "6574ae2b-c9d1-44b9-c7f1-bb0125de85f0"
   },
   "outputs": [],
   "source": [
    "model = tf.keras.models.Sequential([\n",
    "    tf.keras.layers.Conv2D(64, (3,3), activation='relu', input_shape=(32, 32, 3)),\n",
    "    tf.keras.layers.MaxPooling2D(2,2),\n",
    "    tf.keras.layers.Conv2D(32, (3,3), activation='relu'),\n",
    "    tf.keras.layers.MaxPooling2D(2,2),\n",
    "    tf.keras.layers.Flatten(),\n",
    "    tf.keras.layers.Dense(512, activation='relu'),\n",
    "    tf.keras.layers.Dense(10, activation='softmax')\n",
    "])\n",
    "model.summary()"
   ]
  },
  {
   "cell_type": "code",
   "execution_count": null,
   "metadata": {
    "colab": {},
    "colab_type": "code",
    "id": "-bATx2wkBEtq"
   },
   "outputs": [],
   "source": [
    "model.compile(\n",
    "    optimizer='adam',\n",
    "    loss='sparse_categorical_crossentropy',\n",
    "    metrics=['accuracy']\n",
    ")"
   ]
  },
  {
   "cell_type": "code",
   "execution_count": null,
   "metadata": {
    "colab": {
     "base_uri": "https://localhost:8080/",
     "height": 739
    },
    "colab_type": "code",
    "id": "yYArkZq9BEty",
    "outputId": "1205b304-d5d8-46f3-81b9-e92aba9e1684"
   },
   "outputs": [],
   "source": [
    "history = model.fit(tr.flow(x_train, y_train,\n",
    "                                    batch_size=10),\n",
    "                                    epochs=20,\n",
    "                                    validation_data=(ts.flow(x_test,y_test)),\n",
    "                                    workers=4)"
   ]
  },
  {
   "cell_type": "code",
   "execution_count": null,
   "metadata": {
    "colab": {
     "base_uri": "https://localhost:8080/",
     "height": 50
    },
    "colab_type": "code",
    "id": "gwNpJMRqBEt6",
    "outputId": "526e35fb-80a3-4d51-9a5a-b30b835fa88d"
   },
   "outputs": [],
   "source": [
    "model.evaluate(x_test,y_test)"
   ]
  },
  {
   "cell_type": "code",
   "execution_count": null,
   "metadata": {},
   "outputs": [],
   "source": [
    "acc=history.history['accuracy']\n",
    "val_acc = history.history['val_accuracy']\n",
    "loss = history.history['loss']\n",
    "val_loss = history.history['val_loss']\n",
    "\n",
    "epochs = range(len(acc))\n",
    "\n",
    "plt.plot(epochs, acc, 'r', label='Training accuracy')\n",
    "plt.plot(epochs, val_acc, 'b', label='Validation accuracy')\n",
    "plt.title('Training and validation accuracy')\n",
    "\n",
    "plt.figure()\n",
    "\n",
    "plt.plot(epochs, loss, 'r', label='Training Loss')\n",
    "plt.plot(epochs, val_loss, 'b', label='Validation Loss')\n",
    "plt.title('Training and validation loss')\n",
    "plt.legend()\n",
    "\n",
    "plt.show()"
   ]
  },
  {
   "cell_type": "code",
   "execution_count": null,
   "metadata": {},
   "outputs": [],
   "source": [
    "model1 = tf.keras.models.Sequential([\n",
    "    tf.keras.layers.Conv2D(64, (3,3), activation='relu', input_shape=(32, 32, 3)),\n",
    "    tf.keras.layers.Conv2D(64, (3,3), activation='relu', input_shape=(32, 32, 3)),\n",
    "    tf.keras.layers.MaxPooling2D(2,2),\n",
    "    tf.keras.layers.Conv2D(32, (3,3), activation='relu'),\n",
    "    tf.keras.layers.Conv2D(32, (3,3), activation='relu'),\n",
    "    tf.keras.layers.MaxPooling2D(2,2),\n",
    "    tf.keras.layers.Flatten(),\n",
    "    tf.keras.layers.Dense(512, activation='relu'),\n",
    "    tf.keras.layers.Dense(10, activation='softmax')\n",
    "])\n",
    "model1.summary()"
   ]
  },
  {
   "cell_type": "code",
   "execution_count": null,
   "metadata": {},
   "outputs": [],
   "source": [
    "model1.compile(\n",
    "    optimizer='adam',\n",
    "    loss='sparse_categorical_crossentropy',\n",
    "    metrics=['accuracy']\n",
    ")\n",
    "history1 = model1.fit(tr.flow(x_train, y_train,\n",
    "                                    batch_size=10),\n",
    "                                    epochs=20,\n",
    "                                    validation_data=(ts.flow(x_test,y_test)),)\n",
    "model1.evaluate(x_test,y_test)"
   ]
  },
  {
   "cell_type": "code",
   "execution_count": null,
   "metadata": {},
   "outputs": [],
   "source": [
    "acc=history1.history['accuracy']\n",
    "val_acc = history1.history['val_accuracy']\n",
    "loss = history1.history['loss']\n",
    "val_loss = history1.history['val_loss']\n",
    "\n",
    "epochs = range(len(acc))\n",
    "\n",
    "plt.plot(epochs, acc, 'r', label='Training accuracy')\n",
    "plt.plot(epochs, val_acc, 'b', label='Validation accuracy')\n",
    "plt.title('Training and validation accuracy')\n",
    "\n",
    "plt.figure()\n",
    "\n",
    "plt.plot(epochs, loss, 'r', label='Training Loss')\n",
    "plt.plot(epochs, val_loss, 'b', label='Validation Loss')\n",
    "plt.title('Training and validation loss')\n",
    "plt.legend()\n",
    "\n",
    "plt.show()"
   ]
  },
  {
   "cell_type": "code",
   "execution_count": 6,
   "metadata": {},
   "outputs": [
    {
     "name": "stdout",
     "output_type": "stream",
     "text": [
      "Model: \"sequential\"\n",
      "_________________________________________________________________\n",
      "Layer (type)                 Output Shape              Param #   \n",
      "=================================================================\n",
      "conv2d (Conv2D)              (None, 32, 32, 128)       3584      \n",
      "_________________________________________________________________\n",
      "conv2d_1 (Conv2D)            (None, 32, 32, 128)       147584    \n",
      "_________________________________________________________________\n",
      "max_pooling2d (MaxPooling2D) (None, 16, 16, 128)       0         \n",
      "_________________________________________________________________\n",
      "conv2d_2 (Conv2D)            (None, 16, 16, 64)        73792     \n",
      "_________________________________________________________________\n",
      "conv2d_3 (Conv2D)            (None, 16, 16, 64)        36928     \n",
      "_________________________________________________________________\n",
      "max_pooling2d_1 (MaxPooling2 (None, 8, 8, 64)          0         \n",
      "_________________________________________________________________\n",
      "conv2d_4 (Conv2D)            (None, 8, 8, 32)          18464     \n",
      "_________________________________________________________________\n",
      "conv2d_5 (Conv2D)            (None, 8, 8, 32)          9248      \n",
      "_________________________________________________________________\n",
      "max_pooling2d_2 (MaxPooling2 (None, 4, 4, 32)          0         \n",
      "_________________________________________________________________\n",
      "flatten (Flatten)            (None, 512)               0         \n",
      "_________________________________________________________________\n",
      "dense (Dense)                (None, 512)               262656    \n",
      "_________________________________________________________________\n",
      "dense_1 (Dense)              (None, 10)                5130      \n",
      "=================================================================\n",
      "Total params: 557,386\n",
      "Trainable params: 557,386\n",
      "Non-trainable params: 0\n",
      "_________________________________________________________________\n"
     ]
    }
   ],
   "source": [
    "model2 = tf.keras.models.Sequential([\n",
    "    tf.keras.layers.Conv2D(128, (3,3), activation='relu',padding=\"same\", input_shape=(32, 32, 3)),\n",
    "    tf.keras.layers.Conv2D(128, (3,3),padding=\"same\", activation='relu'),\n",
    "    tf.keras.layers.MaxPooling2D(2,2),\n",
    "    tf.keras.layers.Conv2D(64, (3,3),padding=\"same\", activation='relu'),\n",
    "    tf.keras.layers.Conv2D(64, (3,3),padding=\"same\", activation='relu'),\n",
    "    tf.keras.layers.MaxPooling2D(2,2),\n",
    "    tf.keras.layers.Conv2D(32, (3,3),padding=\"same\", activation='relu'),\n",
    "    tf.keras.layers.Conv2D(32, (3,3),padding=\"same\", activation='relu'),\n",
    "    tf.keras.layers.MaxPooling2D(2,2),\n",
    "    tf.keras.layers.Flatten(),\n",
    "    tf.keras.layers.Dense(512, activation='relu'),\n",
    "    tf.keras.layers.Dense(10, activation='softmax')\n",
    "])\n",
    "model2.summary()"
   ]
  },
  {
   "cell_type": "code",
   "execution_count": 7,
   "metadata": {},
   "outputs": [
    {
     "name": "stdout",
     "output_type": "stream",
     "text": [
      "Epoch 1/100\n",
      "5000/5000 [==============================] - 40s 8ms/step - loss: 1.6572 - accuracy: 0.0930 - val_loss: 3.4734 - val_accuracy: 0.4327\n",
      "Epoch 2/100\n",
      "5000/5000 [==============================] - 46s 9ms/step - loss: 1.3736 - accuracy: 0.0920 - val_loss: 3.3355 - val_accuracy: 0.1199\n",
      "Epoch 3/100\n",
      "5000/5000 [==============================] - 46s 9ms/step - loss: 1.2740 - accuracy: 0.0965 - val_loss: 3.0574 - val_accuracy: 0.1710\n",
      "Epoch 4/100\n",
      "5000/5000 [==============================] - 46s 9ms/step - loss: 1.2082 - accuracy: 0.0976 - val_loss: 2.9875 - val_accuracy: 0.0124\n",
      "Epoch 5/100\n",
      "5000/5000 [==============================] - 47s 9ms/step - loss: 1.1735 - accuracy: 0.0991 - val_loss: 3.0154 - val_accuracy: 0.1035\n",
      "Epoch 6/100\n",
      "5000/5000 [==============================] - 50s 10ms/step - loss: 1.1440 - accuracy: 0.0995 - val_loss: 2.5213 - val_accuracy: 0.0531\n",
      "Epoch 7/100\n",
      "5000/5000 [==============================] - 46s 9ms/step - loss: 1.1242 - accuracy: 0.1005 - val_loss: 2.7005 - val_accuracy: 0.1334\n",
      "Epoch 8/100\n",
      "5000/5000 [==============================] - 46s 9ms/step - loss: 1.1127 - accuracy: 0.0989 - val_loss: 2.8165 - val_accuracy: 0.1146\n",
      "Epoch 9/100\n",
      "5000/5000 [==============================] - 48s 10ms/step - loss: 1.1016 - accuracy: 0.1019 - val_loss: 2.9766 - val_accuracy: 0.0449\n",
      "Epoch 10/100\n",
      "5000/5000 [==============================] - 46s 9ms/step - loss: 1.0962 - accuracy: 0.0998 - val_loss: 2.6486 - val_accuracy: 0.0301\n",
      "Epoch 11/100\n",
      "5000/5000 [==============================] - 49s 10ms/step - loss: 1.0869 - accuracy: 0.1005 - val_loss: 2.6303 - val_accuracy: 0.0950\n",
      "Epoch 12/100\n",
      "5000/5000 [==============================] - 48s 10ms/step - loss: 1.0871 - accuracy: 0.1014 - val_loss: 2.8953 - val_accuracy: 0.1558\n",
      "Epoch 13/100\n",
      "5000/5000 [==============================] - 47s 9ms/step - loss: 1.0792 - accuracy: 0.1000 - val_loss: 3.6399 - val_accuracy: 0.0237\n",
      "Epoch 14/100\n",
      "5000/5000 [==============================] - 48s 10ms/step - loss: 1.0718 - accuracy: 0.0996 - val_loss: 2.8250 - val_accuracy: 0.0363\n",
      "Epoch 15/100\n",
      "5000/5000 [==============================] - 47s 9ms/step - loss: 1.0692 - accuracy: 0.1010 - val_loss: 2.9114 - val_accuracy: 0.0150\n",
      "Epoch 16/100\n",
      "5000/5000 [==============================] - 46s 9ms/step - loss: 1.0604 - accuracy: 0.0998 - val_loss: 2.7537 - val_accuracy: 0.1158\n",
      "Epoch 17/100\n",
      "5000/5000 [==============================] - 47s 9ms/step - loss: 1.0606 - accuracy: 0.0998 - val_loss: 2.7413 - val_accuracy: 0.0965\n",
      "Epoch 18/100\n",
      "5000/5000 [==============================] - 46s 9ms/step - loss: 1.0526 - accuracy: 0.1001 - val_loss: 3.0039 - val_accuracy: 0.0453\n",
      "Epoch 19/100\n",
      "5000/5000 [==============================] - 46s 9ms/step - loss: 1.0531 - accuracy: 0.1001 - val_loss: 3.0337 - val_accuracy: 0.0353\n",
      "Epoch 20/100\n",
      "5000/5000 [==============================] - 48s 10ms/step - loss: 1.0548 - accuracy: 0.1002 - val_loss: 3.1385 - val_accuracy: 0.0252\n",
      "Epoch 21/100\n",
      "5000/5000 [==============================] - 46s 9ms/step - loss: 1.0427 - accuracy: 0.0999 - val_loss: 2.7405 - val_accuracy: 0.0824\n",
      "Epoch 22/100\n",
      "5000/5000 [==============================] - 48s 10ms/step - loss: 1.0419 - accuracy: 0.0998 - val_loss: 3.2574 - val_accuracy: 0.0877\n",
      "Epoch 23/100\n",
      "5000/5000 [==============================] - 47s 9ms/step - loss: 1.0324 - accuracy: 0.1004 - val_loss: 2.6203 - val_accuracy: 0.0706\n",
      "Epoch 24/100\n",
      "5000/5000 [==============================] - 48s 10ms/step - loss: 1.0260 - accuracy: 0.1003 - val_loss: 3.1710 - val_accuracy: 0.0968\n",
      "Epoch 25/100\n",
      "5000/5000 [==============================] - 45s 9ms/step - loss: 1.0224 - accuracy: 0.1006 - val_loss: 2.8570 - val_accuracy: 0.0559\n",
      "Epoch 26/100\n",
      "5000/5000 [==============================] - 48s 10ms/step - loss: 1.0139 - accuracy: 0.1008 - val_loss: 3.1500 - val_accuracy: 0.0641\n",
      "Epoch 27/100\n",
      "5000/5000 [==============================] - 47s 9ms/step - loss: 1.0165 - accuracy: 0.0991 - val_loss: 2.7377 - val_accuracy: 0.0782\n",
      "Epoch 28/100\n",
      "5000/5000 [==============================] - 46s 9ms/step - loss: 1.0104 - accuracy: 0.1006 - val_loss: 2.9539 - val_accuracy: 0.0619\n",
      "Epoch 29/100\n",
      "5000/5000 [==============================] - 48s 10ms/step - loss: 1.0192 - accuracy: 0.1006 - val_loss: 2.7636 - val_accuracy: 0.0849\n",
      "Epoch 30/100\n",
      "5000/5000 [==============================] - 49s 10ms/step - loss: 1.0203 - accuracy: 0.0980 - val_loss: 3.3907 - val_accuracy: 0.0441\n",
      "Epoch 31/100\n",
      "5000/5000 [==============================] - 48s 10ms/step - loss: 1.0113 - accuracy: 0.1009 - val_loss: 2.6379 - val_accuracy: 0.0955\n",
      "Epoch 32/100\n",
      "5000/5000 [==============================] - 47s 9ms/step - loss: 1.0100 - accuracy: 0.0995 - val_loss: 2.7605 - val_accuracy: 0.1103\n",
      "Epoch 33/100\n",
      "5000/5000 [==============================] - 47s 9ms/step - loss: 0.9975 - accuracy: 0.1000 - val_loss: 2.7824 - val_accuracy: 0.0782\n",
      "Epoch 34/100\n",
      "5000/5000 [==============================] - 47s 9ms/step - loss: 1.0033 - accuracy: 0.1005 - val_loss: 2.8511 - val_accuracy: 0.0336\n",
      "Epoch 35/100\n",
      "5000/5000 [==============================] - 50s 10ms/step - loss: 0.9918 - accuracy: 0.1011 - val_loss: 3.0703 - val_accuracy: 0.0176\n",
      "Epoch 36/100\n",
      "5000/5000 [==============================] - 50s 10ms/step - loss: 1.0057 - accuracy: 0.1009 - val_loss: 3.2959 - val_accuracy: 0.0097\n",
      "Epoch 37/100\n",
      "5000/5000 [==============================] - 47s 9ms/step - loss: 0.9999 - accuracy: 0.0998 - val_loss: 3.1715 - val_accuracy: 0.0040\n",
      "Epoch 38/100\n",
      "5000/5000 [==============================] - 48s 10ms/step - loss: 0.9961 - accuracy: 0.0979 - val_loss: 2.7490 - val_accuracy: 0.0262\n",
      "Epoch 39/100\n",
      "5000/5000 [==============================] - 48s 10ms/step - loss: 0.9891 - accuracy: 0.1007 - val_loss: 2.3121 - val_accuracy: 0.0532\n",
      "Epoch 40/100\n",
      "5000/5000 [==============================] - 47s 9ms/step - loss: 0.9866 - accuracy: 0.0997 - val_loss: 2.4403 - val_accuracy: 0.0813\n",
      "Epoch 41/100\n",
      "5000/5000 [==============================] - 48s 10ms/step - loss: 0.9913 - accuracy: 0.1001 - val_loss: 3.0350 - val_accuracy: 0.0479\n",
      "Epoch 42/100\n",
      "5000/5000 [==============================] - 47s 9ms/step - loss: 0.9847 - accuracy: 0.1003 - val_loss: 2.3434 - val_accuracy: 0.1113\n",
      "Epoch 43/100\n",
      "5000/5000 [==============================] - 46s 9ms/step - loss: 0.9928 - accuracy: 0.1015 - val_loss: 2.8535 - val_accuracy: 0.0209\n",
      "Epoch 44/100\n",
      "5000/5000 [==============================] - 49s 10ms/step - loss: 0.9774 - accuracy: 0.1002 - val_loss: 2.8343 - val_accuracy: 0.0436\n",
      "Epoch 45/100\n",
      "5000/5000 [==============================] - 48s 10ms/step - loss: 0.9805 - accuracy: 0.1016 - val_loss: 2.7247 - val_accuracy: 0.0620\n",
      "Epoch 46/100\n",
      "5000/5000 [==============================] - 47s 9ms/step - loss: 0.9820 - accuracy: 0.1016 - val_loss: 2.7275 - val_accuracy: 0.2056\n",
      "Epoch 47/100\n",
      "5000/5000 [==============================] - 49s 10ms/step - loss: 0.9867 - accuracy: 0.1004 - val_loss: 2.2600 - val_accuracy: 0.0901\n",
      "Epoch 48/100\n",
      "5000/5000 [==============================] - 48s 10ms/step - loss: 0.9790 - accuracy: 0.1012 - val_loss: 2.6076 - val_accuracy: 0.0499\n",
      "Epoch 49/100\n",
      "5000/5000 [==============================] - 47s 9ms/step - loss: 0.9772 - accuracy: 0.1005 - val_loss: 2.7366 - val_accuracy: 0.0480\n",
      "Epoch 50/100\n",
      "5000/5000 [==============================] - 50s 10ms/step - loss: 0.9701 - accuracy: 0.1015 - val_loss: 3.3173 - val_accuracy: 0.0093\n",
      "Epoch 51/100\n",
      "5000/5000 [==============================] - 48s 10ms/step - loss: 0.9642 - accuracy: 0.1001 - val_loss: 2.5563 - val_accuracy: 0.0429\n",
      "Epoch 52/100\n",
      "5000/5000 [==============================] - 46s 9ms/step - loss: 0.9788 - accuracy: 0.1012 - val_loss: 2.4997 - val_accuracy: 0.1103\n",
      "Epoch 53/100\n",
      "5000/5000 [==============================] - 51s 10ms/step - loss: 0.9622 - accuracy: 0.1024 - val_loss: 2.8787 - val_accuracy: 0.0847\n",
      "Epoch 54/100\n",
      "5000/5000 [==============================] - 48s 10ms/step - loss: 0.9629 - accuracy: 0.1015 - val_loss: 3.1742 - val_accuracy: 0.0509\n",
      "Epoch 55/100\n",
      "5000/5000 [==============================] - 46s 9ms/step - loss: 0.9578 - accuracy: 0.1022 - val_loss: 3.0798 - val_accuracy: 0.0167\n",
      "Epoch 56/100\n"
     ]
    },
    {
     "name": "stdout",
     "output_type": "stream",
     "text": [
      "5000/5000 [==============================] - 48s 10ms/step - loss: 0.9589 - accuracy: 0.1024 - val_loss: 2.3632 - val_accuracy: 0.0696\n",
      "Epoch 57/100\n",
      "5000/5000 [==============================] - 46s 9ms/step - loss: 0.9575 - accuracy: 0.1013 - val_loss: 3.1868 - val_accuracy: 0.0328\n",
      "Epoch 58/100\n",
      "5000/5000 [==============================] - 45s 9ms/step - loss: 0.9573 - accuracy: 0.1030 - val_loss: 2.8518 - val_accuracy: 0.0941\n",
      "Epoch 59/100\n",
      "5000/5000 [==============================] - 47s 9ms/step - loss: 0.9548 - accuracy: 0.1018 - val_loss: 2.7016 - val_accuracy: 0.0545\n",
      "Epoch 60/100\n",
      "5000/5000 [==============================] - 47s 9ms/step - loss: 0.9619 - accuracy: 0.1024 - val_loss: 2.8453 - val_accuracy: 0.0515\n",
      "Epoch 61/100\n",
      "5000/5000 [==============================] - 46s 9ms/step - loss: 0.9467 - accuracy: 0.1022 - val_loss: 2.5305 - val_accuracy: 0.0562\n",
      "Epoch 62/100\n",
      "5000/5000 [==============================] - 48s 10ms/step - loss: 0.9418 - accuracy: 0.1016 - val_loss: 2.9591 - val_accuracy: 0.0243\n",
      "Epoch 63/100\n",
      "5000/5000 [==============================] - 47s 9ms/step - loss: 0.9456 - accuracy: 0.1008 - val_loss: 3.0155 - val_accuracy: 0.0269\n",
      "Epoch 64/100\n",
      "5000/5000 [==============================] - 46s 9ms/step - loss: 0.9500 - accuracy: 0.1019 - val_loss: 3.1215 - val_accuracy: 0.0173\n",
      "Epoch 65/100\n",
      "5000/5000 [==============================] - 47s 9ms/step - loss: 0.9528 - accuracy: 0.1024 - val_loss: 3.0265 - val_accuracy: 0.0363\n",
      "Epoch 66/100\n",
      "5000/5000 [==============================] - 47s 9ms/step - loss: 0.9502 - accuracy: 0.1021 - val_loss: 2.6424 - val_accuracy: 0.0116\n",
      "Epoch 67/100\n",
      "5000/5000 [==============================] - 46s 9ms/step - loss: 0.9608 - accuracy: 0.1014 - val_loss: 2.9646 - val_accuracy: 0.0685\n",
      "Epoch 68/100\n",
      "5000/5000 [==============================] - 48s 10ms/step - loss: 0.9511 - accuracy: 0.1022 - val_loss: 2.6568 - val_accuracy: 0.0345\n",
      "Epoch 69/100\n",
      "5000/5000 [==============================] - 61s 12ms/step - loss: 0.9434 - accuracy: 0.1023 - val_loss: 2.8686 - val_accuracy: 0.0043\n",
      "Epoch 70/100\n",
      "5000/5000 [==============================] - 48s 10ms/step - loss: 0.9434 - accuracy: 0.1009 - val_loss: 2.7590 - val_accuracy: 0.0296\n",
      "Epoch 71/100\n",
      "5000/5000 [==============================] - 49s 10ms/step - loss: 0.9521 - accuracy: 0.1012 - val_loss: 3.0947 - val_accuracy: 0.0820\n",
      "Epoch 72/100\n",
      "5000/5000 [==============================] - 48s 10ms/step - loss: 0.9441 - accuracy: 0.1029 - val_loss: 2.5700 - val_accuracy: 0.0363\n",
      "Epoch 73/100\n",
      "5000/5000 [==============================] - 48s 10ms/step - loss: 0.9472 - accuracy: 0.1015 - val_loss: 2.5758 - val_accuracy: 0.0216\n",
      "Epoch 74/100\n",
      "5000/5000 [==============================] - 62s 12ms/step - loss: 0.9363 - accuracy: 0.1026 - val_loss: 2.2654 - val_accuracy: 0.0549\n",
      "Epoch 75/100\n",
      "5000/5000 [==============================] - 55s 11ms/step - loss: 0.9471 - accuracy: 0.1030 - val_loss: 2.8111 - val_accuracy: 0.0257\n",
      "Epoch 76/100\n",
      "5000/5000 [==============================] - 50s 10ms/step - loss: 0.9355 - accuracy: 0.1028 - val_loss: 2.5078 - val_accuracy: 0.0645\n",
      "Epoch 77/100\n",
      "5000/5000 [==============================] - 53s 11ms/step - loss: 0.9316 - accuracy: 0.1016 - val_loss: 3.1420 - val_accuracy: 0.0302\n",
      "Epoch 78/100\n",
      "5000/5000 [==============================] - 58s 12ms/step - loss: 0.9264 - accuracy: 0.1014 - val_loss: 2.8060 - val_accuracy: 0.0168\n",
      "Epoch 79/100\n",
      "5000/5000 [==============================] - 54s 11ms/step - loss: 0.9388 - accuracy: 0.1031 - val_loss: 2.8781 - val_accuracy: 0.0613\n",
      "Epoch 80/100\n",
      "5000/5000 [==============================] - 53s 11ms/step - loss: 0.9358 - accuracy: 0.1006 - val_loss: 2.3084 - val_accuracy: 0.1875\n",
      "Epoch 81/100\n",
      "5000/5000 [==============================] - 51s 10ms/step - loss: 0.9333 - accuracy: 0.1029 - val_loss: 2.5737 - val_accuracy: 0.0409\n",
      "Epoch 82/100\n",
      "5000/5000 [==============================] - 52s 10ms/step - loss: 0.9304 - accuracy: 0.1019 - val_loss: 2.6654 - val_accuracy: 0.0133\n",
      "Epoch 83/100\n",
      "5000/5000 [==============================] - 54s 11ms/step - loss: 0.9389 - accuracy: 0.1001 - val_loss: 2.9520 - val_accuracy: 0.0129\n",
      "Epoch 84/100\n",
      "5000/5000 [==============================] - 54s 11ms/step - loss: 0.9335 - accuracy: 0.1005 - val_loss: 2.8455 - val_accuracy: 0.0300\n",
      "Epoch 85/100\n",
      "5000/5000 [==============================] - 52s 10ms/step - loss: 0.9279 - accuracy: 0.1008 - val_loss: 3.0453 - val_accuracy: 0.0685\n",
      "Epoch 86/100\n",
      "5000/5000 [==============================] - 53s 11ms/step - loss: 0.9365 - accuracy: 0.1003 - val_loss: 2.4737 - val_accuracy: 0.0379\n",
      "Epoch 87/100\n",
      "5000/5000 [==============================] - 55s 11ms/step - loss: 0.9240 - accuracy: 0.1025 - val_loss: 2.8194 - val_accuracy: 0.0120\n",
      "Epoch 88/100\n",
      "5000/5000 [==============================] - 58s 12ms/step - loss: 0.9202 - accuracy: 0.0993 - val_loss: 3.2101 - val_accuracy: 0.0425\n",
      "Epoch 89/100\n",
      "5000/5000 [==============================] - 53s 11ms/step - loss: 0.9295 - accuracy: 0.1023 - val_loss: 2.9237 - val_accuracy: 0.0200\n",
      "Epoch 90/100\n",
      "5000/5000 [==============================] - 53s 11ms/step - loss: 0.9263 - accuracy: 0.1040 - val_loss: 2.5256 - val_accuracy: 0.0665\n",
      "Epoch 91/100\n",
      "5000/5000 [==============================] - 53s 11ms/step - loss: 0.9139 - accuracy: 0.1019 - val_loss: 2.3159 - val_accuracy: 0.0262\n",
      "Epoch 92/100\n",
      "5000/5000 [==============================] - 52s 10ms/step - loss: 0.9145 - accuracy: 0.1021 - val_loss: 2.3191 - val_accuracy: 0.0609\n",
      "Epoch 93/100\n",
      "5000/5000 [==============================] - 53s 11ms/step - loss: 0.9249 - accuracy: 0.1024 - val_loss: 2.4109 - val_accuracy: 0.0207\n",
      "Epoch 94/100\n",
      "5000/5000 [==============================] - 56s 11ms/step - loss: 0.9233 - accuracy: 0.1013 - val_loss: 2.6826 - val_accuracy: 0.0556\n",
      "Epoch 95/100\n",
      "5000/5000 [==============================] - 47s 9ms/step - loss: 0.9210 - accuracy: 0.1035 - val_loss: 2.5008 - val_accuracy: 0.0911\n",
      "Epoch 96/100\n",
      "5000/5000 [==============================] - 48s 10ms/step - loss: 0.9207 - accuracy: 0.1018 - val_loss: 2.5889 - val_accuracy: 0.0290\n",
      "Epoch 97/100\n",
      "5000/5000 [==============================] - 51s 10ms/step - loss: 0.9191 - accuracy: 0.1021 - val_loss: 3.0740 - val_accuracy: 0.0073\n",
      "Epoch 98/100\n",
      "5000/5000 [==============================] - 50s 10ms/step - loss: 0.9382 - accuracy: 0.1037 - val_loss: 2.5959 - val_accuracy: 0.0836\n",
      "Epoch 99/100\n",
      "5000/5000 [==============================] - 51s 10ms/step - loss: 0.9195 - accuracy: 0.1030 - val_loss: 2.4422 - val_accuracy: 0.1070\n",
      "Epoch 100/100\n",
      "5000/5000 [==============================] - 49s 10ms/step - loss: 0.9314 - accuracy: 0.1028 - val_loss: 2.3570 - val_accuracy: 0.0120\n",
      "313/313 [==============================] - 2s 7ms/step - loss: 118.2848 - accuracy: 0.0635\n"
     ]
    },
    {
     "data": {
      "text/plain": [
       "[118.28477478027344, 0.06350000202655792]"
      ]
     },
     "execution_count": 7,
     "metadata": {},
     "output_type": "execute_result"
    }
   ],
   "source": [
    "model2.compile(\n",
    "    optimizer='adam',\n",
    "    loss='sparse_categorical_crossentropy',\n",
    "    metrics=['accuracy']\n",
    ")\n",
    "history2 = model2.fit(tr.flow(x_train, y_train,\n",
    "                                    batch_size=10),\n",
    "                                    epochs=100,\n",
    "                                    validation_data=(ts.flow(x_test,y_test)),)\n",
    "model2.evaluate(x_test,y_test)"
   ]
  },
  {
   "cell_type": "code",
   "execution_count": 8,
   "metadata": {},
   "outputs": [
    {
     "data": {
      "image/png": "[encoded data removed]",
      "text/plain": [
       "<Figure size 432x288 with 1 Axes>"
      ]
     },
     "metadata": {
      "needs_background": "light"
     },
     "output_type": "display_data"
    },
    {
     "data": {
      "image/png": "[encoded data removed]",
      "text/plain": [
       "<Figure size 432x288 with 1 Axes>"
      ]
     },
     "metadata": {
      "needs_background": "light"
     },
     "output_type": "display_data"
    }
   ],
   "source": [
    "acc=history2.history['accuracy']\n",
    "val_acc = history2.history['val_accuracy']\n",
    "loss = history2.history['loss']\n",
    "val_loss = history2.history['val_loss']\n",
    "\n",
    "epochs = range(len(acc))\n",
    "\n",
    "plt.plot(epochs, acc, 'r', label='Training accuracy')\n",
    "plt.plot(epochs, val_acc, 'b', label='Validation accuracy')\n",
    "plt.title('Training and validation accuracy')\n",
    "\n",
    "plt.figure()\n",
    "\n",
    "plt.plot(epochs, loss, 'r', label='Training Loss')\n",
    "plt.plot(epochs, val_loss, 'b', label='Validation Loss')\n",
    "plt.title('Training and validation loss')\n",
    "plt.legend()\n",
    "\n",
    "plt.show()"
   ]
  },
  {
   "cell_type": "code",
   "execution_count": null,
   "metadata": {},
   "outputs": [],
   "source": []
  }
 ],
 "metadata": {
  "accelerator": "GPU",
  "colab": {
   "name": "Copy of Cifar.ipynb",
   "provenance": []
  },
  "kernelspec": {
   "display_name": "Python 3",
   "language": "python",
   "name": "python3"
  },
  "language_info": {
   "codemirror_mode": {
    "name": "ipython",
    "version": 3
   },
   "file_extension": ".py",
   "mimetype": "text/x-python",
   "name": "python",
   "nbconvert_exporter": "python",
   "pygments_lexer": "ipython3",
   "version": "3.7.3"
  }
 },
 "nbformat": 4,
 "nbformat_minor": 1
}
